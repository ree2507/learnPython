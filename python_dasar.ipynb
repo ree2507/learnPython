{
  "nbformat": 4,
  "nbformat_minor": 0,
  "metadata": {
    "colab": {
      "provenance": []
    },
    "kernelspec": {
      "name": "python3",
      "display_name": "Python 3"
    },
    "language_info": {
      "name": "python"
    }
  },
  "cells": [
    {
      "cell_type": "markdown",
      "source": [
        "**OPERATOR**"
      ],
      "metadata": {
        "id": "VR5W_6qQHoVa"
      }
    },
    {
      "cell_type": "markdown",
      "source": [
        "1. operator matematika"
      ],
      "metadata": {
        "id": "WIByaj7eIIEj"
      }
    },
    {
      "cell_type": "code",
      "execution_count": null,
      "metadata": {
        "colab": {
          "base_uri": "https://localhost:8080/"
        },
        "id": "wohWb9VEHfTx",
        "outputId": "e26eb431-dbe2-44bf-c2e8-505f11c5b445"
      },
      "outputs": [
        {
          "output_type": "stream",
          "name": "stdout",
          "text": [
            "15\n",
            "5\n",
            "50\n",
            "2.0\n",
            "0\n"
          ]
        }
      ],
      "source": [
        "a = 10\n",
        "b = 5\n",
        "\n",
        "print(a+b)\n",
        "print(a-b)\n",
        "print(a*b)\n",
        "print(a/b)\n",
        "print(a%b)"
      ]
    },
    {
      "cell_type": "markdown",
      "source": [
        "2. operator pembanding"
      ],
      "metadata": {
        "id": "vSdosMkVIxDV"
      }
    },
    {
      "cell_type": "code",
      "source": [
        "a = 10\n",
        "b = 5\n",
        "\n",
        "print(a == b)\n",
        "print(a > b)\n",
        "print(a < b)\n",
        "print(a >= b)\n",
        "print(a <= b)\n",
        "print(a != b)"
      ],
      "metadata": {
        "id": "v9-FIrndIv50",
        "colab": {
          "base_uri": "https://localhost:8080/"
        },
        "outputId": "de10bce4-6383-4ea6-fa29-c3a18799c6ad"
      },
      "execution_count": null,
      "outputs": [
        {
          "output_type": "stream",
          "name": "stdout",
          "text": [
            "False\n",
            "True\n",
            "False\n",
            "True\n",
            "False\n",
            "True\n"
          ]
        }
      ]
    },
    {
      "cell_type": "markdown",
      "source": [
        "3. operator logika"
      ],
      "metadata": {
        "id": "pr-F_ZTFJLvX"
      }
    },
    {
      "cell_type": "code",
      "source": [
        "a = 10\n",
        "b = 5\n",
        "\n",
        "print(a >= b and a > b) # harus benar keduanya\n",
        "print(a == b or a < b) # salah satu bisa benar\n",
        "print(not a > b) # membalikan"
      ],
      "metadata": {
        "colab": {
          "base_uri": "https://localhost:8080/"
        },
        "id": "CAemDZYGJN1x",
        "outputId": "db60021c-3635-435c-a0ac-61f01c422f1c"
      },
      "execution_count": null,
      "outputs": [
        {
          "output_type": "stream",
          "name": "stdout",
          "text": [
            "True\n",
            "False\n",
            "False\n"
          ]
        }
      ]
    },
    {
      "cell_type": "markdown",
      "source": [
        "**PENGKONDISIAN**"
      ],
      "metadata": {
        "id": "j-7JKY9CyQov"
      }
    },
    {
      "cell_type": "code",
      "source": [
        "a = 7\n",
        "\n",
        "if a > 8:\n",
        "  print(\"ya\")\n",
        "else:\n",
        "  print(\"no\")"
      ],
      "metadata": {
        "id": "8NyyhVsYyYTM"
      },
      "execution_count": null,
      "outputs": []
    },
    {
      "cell_type": "markdown",
      "source": [
        "1. nested if"
      ],
      "metadata": {
        "id": "wSMYp4A1ygQW"
      }
    },
    {
      "cell_type": "code",
      "source": [
        "a = 4\n",
        "\n",
        "if a > 5:\n",
        "  print(\"ya\")\n",
        "  if a == 10:\n",
        "    print(\"ya, sama\")\n",
        "  else:\n",
        "    print(\"nope\")\n",
        "else:\n",
        "  print(\"no\")"
      ],
      "metadata": {
        "id": "Mw9_gcyGyiWO"
      },
      "execution_count": null,
      "outputs": []
    },
    {
      "cell_type": "markdown",
      "source": [
        "2. else if"
      ],
      "metadata": {
        "id": "x0qYsADHyi46"
      }
    },
    {
      "cell_type": "code",
      "source": [
        "isHujanDeras = False\n",
        "isGerimis = True\n",
        "\n",
        "if isHujanDeras == True:\n",
        "  print(\"dirumah saja\")\n",
        "elif isGerimis == True and isHujanDeras == False:\n",
        "  print(\"ke kampus, bawa payung\")\n",
        "else:\n",
        "  print(\"ke kampus\")\n",
        "\n"
      ],
      "metadata": {
        "id": "M4_1BFZ4ymM0"
      },
      "execution_count": null,
      "outputs": []
    },
    {
      "cell_type": "markdown",
      "source": [
        "**LOOPING**"
      ],
      "metadata": {
        "id": "bBIo7Oopy1zu"
      }
    },
    {
      "cell_type": "markdown",
      "source": [
        "1. for loop"
      ],
      "metadata": {
        "id": "Fn_qoSTay40y"
      }
    },
    {
      "cell_type": "code",
      "source": [
        "for i in range(1, 5):\n",
        "  print(i)\n",
        "\n",
        "print()\n",
        "\n",
        "# nested loop\n",
        "\n",
        "for z in range(1, 5):\n",
        "  for y in range(1, 6):\n",
        "    print(f\"nilai z = {z} nilai y = {y}\")"
      ],
      "metadata": {
        "colab": {
          "base_uri": "https://localhost:8080/"
        },
        "id": "Y264W03Hy4Ys",
        "outputId": "02ef4ed0-a70e-43aa-a855-f6b7a488ec91"
      },
      "execution_count": null,
      "outputs": [
        {
          "output_type": "stream",
          "name": "stdout",
          "text": [
            "1\n",
            "2\n",
            "3\n",
            "4\n",
            "\n",
            "nilai z = 1 nilai y = 1\n",
            "nilai z = 1 nilai y = 2\n",
            "nilai z = 1 nilai y = 3\n",
            "nilai z = 1 nilai y = 4\n",
            "nilai z = 1 nilai y = 5\n",
            "nilai z = 2 nilai y = 1\n",
            "nilai z = 2 nilai y = 2\n",
            "nilai z = 2 nilai y = 3\n",
            "nilai z = 2 nilai y = 4\n",
            "nilai z = 2 nilai y = 5\n",
            "nilai z = 3 nilai y = 1\n",
            "nilai z = 3 nilai y = 2\n",
            "nilai z = 3 nilai y = 3\n",
            "nilai z = 3 nilai y = 4\n",
            "nilai z = 3 nilai y = 5\n",
            "nilai z = 4 nilai y = 1\n",
            "nilai z = 4 nilai y = 2\n",
            "nilai z = 4 nilai y = 3\n",
            "nilai z = 4 nilai y = 4\n",
            "nilai z = 4 nilai y = 5\n"
          ]
        }
      ]
    },
    {
      "cell_type": "markdown",
      "source": [
        "2. while loop"
      ],
      "metadata": {
        "id": "Gr5EiH2Z3qSf"
      }
    },
    {
      "cell_type": "code",
      "source": [
        "n = 0\n",
        "while n <= 5:\n",
        "  print(n)\n",
        "  n = n + 1"
      ],
      "metadata": {
        "colab": {
          "base_uri": "https://localhost:8080/"
        },
        "id": "lrD_0MLB3rfA",
        "outputId": "5c964634-1c6b-445d-d4fc-946aa1a5e00a"
      },
      "execution_count": null,
      "outputs": [
        {
          "output_type": "stream",
          "name": "stdout",
          "text": [
            "0\n",
            "1\n",
            "2\n",
            "3\n",
            "4\n",
            "5\n"
          ]
        }
      ]
    },
    {
      "cell_type": "markdown",
      "source": [
        "**BREAK & CONTINUE**"
      ],
      "metadata": {
        "id": "zTS35_HTXRWr"
      }
    },
    {
      "cell_type": "markdown",
      "source": [
        "1. break"
      ],
      "metadata": {
        "id": "BJszApwkYN6k"
      }
    },
    {
      "cell_type": "code",
      "source": [
        "for x in range(1,10):\n",
        "  print(x)\n",
        "  if x == 2:\n",
        "    print(\"berhenti\")\n",
        "    break"
      ],
      "metadata": {
        "colab": {
          "base_uri": "https://localhost:8080/"
        },
        "id": "udy-XyjbXW0j",
        "outputId": "f04dc9a1-9257-4c87-8af7-65cce87d4710"
      },
      "execution_count": null,
      "outputs": [
        {
          "output_type": "stream",
          "name": "stdout",
          "text": [
            "1\n",
            "2\n",
            "berhenti\n"
          ]
        }
      ]
    },
    {
      "cell_type": "markdown",
      "source": [
        "2. continue"
      ],
      "metadata": {
        "id": "6HOqRSJzZK4e"
      }
    },
    {
      "cell_type": "code",
      "source": [
        "for n in range(1,10):\n",
        "  if n % 2 == 0:\n",
        "    continue\n",
        "  print(n)"
      ],
      "metadata": {
        "colab": {
          "base_uri": "https://localhost:8080/"
        },
        "id": "33SKpUcXZMQ2",
        "outputId": "d01b1e9c-21c1-4441-8558-453baf26434f"
      },
      "execution_count": null,
      "outputs": [
        {
          "output_type": "stream",
          "name": "stdout",
          "text": [
            "1\n",
            "3\n",
            "5\n",
            "7\n",
            "9\n"
          ]
        }
      ]
    },
    {
      "cell_type": "markdown",
      "source": [
        "3. gabungan"
      ],
      "metadata": {
        "id": "7-zBGrGZaPcf"
      }
    },
    {
      "cell_type": "code",
      "source": [
        "for y in range(1,10):\n",
        "  if y == 9:\n",
        "    print(\"program berhenti di angka 9\")\n",
        "    break\n",
        "  if y % 2 == 0:\n",
        "    continue\n",
        "  print(y)"
      ],
      "metadata": {
        "colab": {
          "base_uri": "https://localhost:8080/"
        },
        "id": "YXpax7Y5aQmb",
        "outputId": "9d5586bd-35ec-4b84-a5fc-8cd29ecc5fde"
      },
      "execution_count": null,
      "outputs": [
        {
          "output_type": "stream",
          "name": "stdout",
          "text": [
            "1\n",
            "3\n",
            "5\n",
            "7\n",
            "program berhenti di angka 9\n"
          ]
        }
      ]
    },
    {
      "cell_type": "markdown",
      "source": [
        "**FUNCTION**"
      ],
      "metadata": {
        "id": "FU0SH-JucOfB"
      }
    },
    {
      "cell_type": "markdown",
      "source": [
        "1. function tanpa parameter"
      ],
      "metadata": {
        "id": "saWdpLAzanLM"
      }
    },
    {
      "cell_type": "code",
      "source": [
        "def halo():\n",
        "  print(\"halo dunia\")\n",
        "\n",
        "halo()"
      ],
      "metadata": {
        "id": "0u08axDgcRZ4",
        "colab": {
          "base_uri": "https://localhost:8080/"
        },
        "outputId": "6b00575f-f98e-4bc4-92d1-4a6cf5173c29"
      },
      "execution_count": null,
      "outputs": [
        {
          "output_type": "stream",
          "name": "stdout",
          "text": [
            "halo dunia\n"
          ]
        }
      ]
    },
    {
      "cell_type": "markdown",
      "source": [
        "2. function dengan parameter"
      ],
      "metadata": {
        "id": "Fc5w7APpbjvJ"
      }
    },
    {
      "cell_type": "code",
      "source": [
        "def sapa(nama):\n",
        "  print(f\"halo {nama}, apa kabar?\")\n",
        "\n",
        "sapa(\"rey\")\n",
        "sapa(\"han\")"
      ],
      "metadata": {
        "colab": {
          "base_uri": "https://localhost:8080/"
        },
        "id": "uTlHNbvPbmdr",
        "outputId": "6bf82fdc-3674-4544-c54e-33ec54eebfbe"
      },
      "execution_count": null,
      "outputs": [
        {
          "output_type": "stream",
          "name": "stdout",
          "text": [
            "halo rey, apa kabar?\n",
            "halo han, apa kabar?\n"
          ]
        }
      ]
    },
    {
      "cell_type": "markdown",
      "source": [
        "3. function dengan return"
      ],
      "metadata": {
        "id": "D2Ub4oeJcUs_"
      }
    },
    {
      "cell_type": "code",
      "source": [
        "# satu return\n",
        "def tambah(num1, num2):\n",
        "  hasil = num1 + num2\n",
        "\n",
        "  return hasil\n",
        "\n",
        "a = tambah(5, 5)\n",
        "print(f\"hasil penjumlahan: {a}\")\n",
        "\n",
        "print(\"\")\n",
        "\n",
        "# banyak return\n",
        "def aritmatika(x, y):\n",
        "  return x+y, x-y, x*y\n",
        "\n",
        "a, b, c = aritmatika(5, 5)\n",
        "print(\n",
        "    f\"nilai a: {a}\\n\"\n",
        "    f\"nilai b: {b}\\n\"\n",
        "    f\"nilai c: {c}\"\n",
        ")\n",
        "\n",
        "print(\"\")\n",
        "\n",
        "_, b, _ = aritmatika(10, 3)\n",
        "print(f\"nilai b: {b}\")\n",
        "\n",
        "a, _, _ = aritmatika(10, 3)\n",
        "print(f\"nilai a: {a}\")\n",
        "\n",
        "_, _, c = aritmatika(10, 3)\n",
        "print(f\"nilai c: {c}\")"
      ],
      "metadata": {
        "colab": {
          "base_uri": "https://localhost:8080/"
        },
        "id": "ztrpjDzwcUVe",
        "outputId": "73d52ae5-6039-4d2e-a439-76bb4b9cf168"
      },
      "execution_count": null,
      "outputs": [
        {
          "output_type": "stream",
          "name": "stdout",
          "text": [
            "hasil penjumlahan: 10\n",
            "\n",
            "nilai a: 10\n",
            "nilai b: 0\n",
            "nilai c: 25\n",
            "\n",
            "nilai b: 7\n",
            "nilai a: 13\n",
            "nilai c: 30\n"
          ]
        }
      ]
    },
    {
      "cell_type": "markdown",
      "source": [
        "4. function dengan nilai default"
      ],
      "metadata": {
        "id": "YmgIjxtse3i7"
      }
    },
    {
      "cell_type": "code",
      "source": [
        "def default(nama=\"user\"):\n",
        "  print(f\"halo {nama}\")\n",
        "\n",
        "default() # pakai nama di parameter\n",
        "default(\"rey\")  # pakai nama yg dibuat sendiri"
      ],
      "metadata": {
        "colab": {
          "base_uri": "https://localhost:8080/"
        },
        "id": "wg-V96ZPe5_6",
        "outputId": "666f4e15-c55f-4d2b-893d-c18cef5cb75a"
      },
      "execution_count": null,
      "outputs": [
        {
          "output_type": "stream",
          "name": "stdout",
          "text": [
            "halo user\n",
            "halo rey\n"
          ]
        }
      ]
    },
    {
      "cell_type": "markdown",
      "source": [
        "5. function dengan banyak parameter"
      ],
      "metadata": {
        "id": "6cAuEBUUg9xY"
      }
    },
    {
      "cell_type": "code",
      "source": [
        "def bio(nama, umur, jurusan):\n",
        "  print(\n",
        "      f\"nama: {nama}\\n\"\n",
        "      f\"umur: {umur}\\n\"\n",
        "      f\"jurusan: {jurusan}\"\n",
        "  )\n",
        "\n",
        "bio(\"rey\", \"20\", \"teknik informatika\")"
      ],
      "metadata": {
        "colab": {
          "base_uri": "https://localhost:8080/"
        },
        "id": "f0jfIauOgLQ_",
        "outputId": "32d0f052-4253-43ee-e610-cfd5389122dc"
      },
      "execution_count": null,
      "outputs": [
        {
          "output_type": "stream",
          "name": "stdout",
          "text": [
            "nama: rey\n",
            "umur: 20\n",
            "jurusan: teknik informatika\n"
          ]
        }
      ]
    },
    {
      "cell_type": "markdown",
      "source": [
        "**ARRAY**"
      ],
      "metadata": {
        "id": "X5-ZZ0l-kz8R"
      }
    },
    {
      "cell_type": "markdown",
      "source": [
        "1. array dasar"
      ],
      "metadata": {
        "id": "xchtDSNpA-Ui"
      }
    },
    {
      "cell_type": "code",
      "source": [
        "# array sederhana\n",
        "num = [5, 10, 15, 20, 25]\n",
        "\n",
        "print(num)\n",
        "print(num[0])\n",
        "print(num[-1])\n",
        "\n",
        "print(\"\")\n",
        "\n",
        "# operasi dasar\n",
        "num = [10, 15, 20]\n",
        "\n",
        "# tambah elemen\n",
        "num.append(30)\n",
        "num.insert(1, 13) # tambah di index ke-1\n",
        "print(num)\n",
        "\n",
        "# hapus elemen\n",
        "num.remove(20) # hapus berdasarkan nilai\n",
        "del num[2] # hpus berdasarkan index\n",
        "print(num)\n",
        "\n",
        "# update elemen\n",
        "num[0] = 11\n",
        "print(num)\n",
        "\n",
        "print(\"\")\n",
        "\n",
        "# looping isi list\n",
        "num = [1, 2, 3, 4, 5]\n",
        "\n",
        "for x in num:\n",
        "  print(x)"
      ],
      "metadata": {
        "id": "bY0fh51Hk3PR",
        "colab": {
          "base_uri": "https://localhost:8080/"
        },
        "outputId": "f2485d00-dfc4-42f2-c067-f2e28ecb67fe"
      },
      "execution_count": null,
      "outputs": [
        {
          "output_type": "stream",
          "name": "stdout",
          "text": [
            "[5, 10, 15, 20, 25]\n",
            "5\n",
            "25\n",
            "\n",
            "[10, 13, 15, 20, 40]\n",
            "[10, 13, 40]\n",
            "[11, 13, 40]\n",
            "\n",
            "1\n",
            "2\n",
            "3\n",
            "4\n",
            "5\n"
          ]
        }
      ]
    },
    {
      "cell_type": "markdown",
      "source": [
        "2. array dari modul array"
      ],
      "metadata": {
        "id": "8OqT0hb3EEcO"
      }
    },
    {
      "cell_type": "code",
      "source": [
        "# i = integer, f = float\n",
        "import array\n",
        "\n",
        "arr = array.array('i', [1, 2, 3, 4, 5])\n",
        "\n",
        "print(arr)\n",
        "print(arr[1])\n",
        "\n",
        "arr.append(6)\n",
        "print(arr)\n",
        "\n",
        "arr.remove(3)\n",
        "print(arr)"
      ],
      "metadata": {
        "colab": {
          "base_uri": "https://localhost:8080/"
        },
        "id": "53P5sYpMEGW2",
        "outputId": "2accf6c8-de70-4d58-a493-3e9cdd80c95e"
      },
      "execution_count": null,
      "outputs": [
        {
          "output_type": "stream",
          "name": "stdout",
          "text": [
            "array('i', [1, 2, 3, 4, 5])\n",
            "2\n",
            "array('i', [1, 2, 3, 4, 5, 6])\n",
            "array('i', [1, 2, 4, 5, 6])\n"
          ]
        }
      ]
    },
    {
      "cell_type": "markdown",
      "source": [
        "3. array 2D"
      ],
      "metadata": {
        "id": "YkXrAAcSGup_"
      }
    },
    {
      "cell_type": "code",
      "source": [
        "matrix = [\n",
        "    [1, 2, 3],\n",
        "    [4, 5, 6],\n",
        "    [7, 8, 9]\n",
        "]\n",
        "\n",
        "print(matrix[0][1])\n",
        "\n",
        "for baris in matrix:\n",
        "  for val in baris:\n",
        "    print(val, end=\" \")"
      ],
      "metadata": {
        "colab": {
          "base_uri": "https://localhost:8080/"
        },
        "id": "CVNFxvxcGxKY",
        "outputId": "df752cf9-87c8-4cc7-d49a-2fce9f40f630"
      },
      "execution_count": null,
      "outputs": [
        {
          "output_type": "stream",
          "name": "stdout",
          "text": [
            "2\n",
            "1 2 3 4 5 6 7 8 9 "
          ]
        }
      ]
    },
    {
      "cell_type": "markdown",
      "source": [
        "4. array hitung total"
      ],
      "metadata": {
        "id": "oZxp-zeoMwHW"
      }
    },
    {
      "cell_type": "code",
      "source": [
        "angka = [3, 4, 6, 8, 11, 17, 21]\n",
        "\n",
        "total = sum(angka)\n",
        "terbesar = max(angka)\n",
        "terkecil = min(angka)\n",
        "\n",
        "print(f\"total: {total}\")\n",
        "print(f\"terbesar: {terbesar}\")\n",
        "print(f\"terkecil: {terkecil}\")"
      ],
      "metadata": {
        "colab": {
          "base_uri": "https://localhost:8080/"
        },
        "id": "QGpVuAgpMxvy",
        "outputId": "64403bcb-231b-4f22-b8ca-ff04a64c8290"
      },
      "execution_count": null,
      "outputs": [
        {
          "output_type": "stream",
          "name": "stdout",
          "text": [
            "total: 70\n",
            "terbesar: 21\n",
            "terkecil: 3\n"
          ]
        }
      ]
    },
    {
      "cell_type": "markdown",
      "source": [
        "**CLASS**"
      ],
      "metadata": {
        "id": "fFHodFPUHOKx"
      }
    },
    {
      "cell_type": "markdown",
      "source": [
        "1. class sederhana"
      ],
      "metadata": {
        "id": "SvZjS8JMMsp3"
      }
    },
    {
      "cell_type": "code",
      "source": [
        "class kota:\n",
        "  # konstruktor (dipanggil saat bikin object)\n",
        "  def __init__(self, namaKota, provinsi):\n",
        "    self.namaKota = namaKota\n",
        "    self.provinsi = provinsi\n",
        "\n",
        "  # # diskontruktor (menghancurkan object)\n",
        "  # def __del__(self):\n",
        "  #   print(\"diskontruktor dipanggil\")\n",
        "\n",
        "  # method (fungsi dalam class)\n",
        "  def object(self):\n",
        "    print(\n",
        "        f\"nama kota: {self.namaKota}\\n\"\n",
        "        f\"provinsi: {self.provinsi}\\n\"\n",
        "    )\n",
        "\n",
        "# instance (membuat object)\n",
        "kota1 = kota(\"palu\", \"sulawesi tengah\")\n",
        "kota2 = kota(\"jakarta\", \"dki jakarta\")\n",
        "kota3 = kota(\"bandung\", \"jawa barat\")\n",
        "kota4 = kota(\"surabaya\", \"jawa timur\")\n",
        "\n",
        "kota1.object()\n",
        "kota2.object()\n",
        "kota3.object()\n",
        "kota4.object()\n",
        "\n"
      ],
      "metadata": {
        "colab": {
          "base_uri": "https://localhost:8080/"
        },
        "id": "k-FHHGoLHRh4",
        "outputId": "a1e76d54-b026-49f7-cc4b-2852eebddcbf"
      },
      "execution_count": 3,
      "outputs": [
        {
          "output_type": "stream",
          "name": "stdout",
          "text": [
            "nama kota: palu\n",
            "provinsi: sulawesi tengah\n",
            "\n",
            "nama kota: jakarta\n",
            "provinsi: dki jakarta\n",
            "\n",
            "nama kota: bandung\n",
            "provinsi: jawa barat\n",
            "\n",
            "nama kota: surabaya\n",
            "provinsi: jawa timur\n",
            "\n"
          ]
        }
      ]
    },
    {
      "cell_type": "markdown",
      "source": [
        "2. atribut dan method tambahan"
      ],
      "metadata": {
        "id": "qA_ejz0_Mua0"
      }
    },
    {
      "cell_type": "code",
      "source": [
        "class mahasiswa:\n",
        "  def __init__(self, nama, nim, jurusan, prodi, semester):\n",
        "    self.nama = nama\n",
        "    self.nim = nim\n",
        "    self.jurusan = jurusan\n",
        "    self.prodi = prodi\n",
        "    self.semester = semester\n",
        "\n",
        "  def perkenalan(self):\n",
        "    print(f\"halo, nama saya {self.nama}, nim saya {self.nim}. saya dari jurusan {self.jurusan}, prodi {self.prodi} semester {self.semester}\")\n",
        "\n",
        "  def up_semester(self):\n",
        "    self.semester += 1\n",
        "    print(f\"{self.nama} sekarang naik ke semester {self.semester}\")\n",
        "\n",
        "mhs1 = mahasiswa(\"reyhan\", \"f55123095\", \"teknologi informasi\", \"S1-teknik informatika\", 5)\n",
        "mhs2 = mahasiswa(\"hanif\", \"f55123096\", \"teknologi informasi\", \"S1-teknik informatika\", 7)\n",
        "mhs3 = mahasiswa(\"sucipto\", \"f55123097\", \"teknologi informasi\", \"S1-sistem informasi\", 3)\n",
        "\n",
        "mhs1.perkenalan()\n",
        "mhs2.perkenalan()\n",
        "mhs3.perkenalan()\n",
        "mhs1.up_semester()"
      ],
      "metadata": {
        "colab": {
          "base_uri": "https://localhost:8080/"
        },
        "id": "eDJ_3R6VMwgr",
        "outputId": "b3c7f972-cef2-491a-9ff0-41ea9ef9681a"
      },
      "execution_count": 6,
      "outputs": [
        {
          "output_type": "stream",
          "name": "stdout",
          "text": [
            "halo, nama saya reyhan, nim saya f55123095. saya dari jurusan teknologi informasi, prodi S1-teknik informatika semester 5\n",
            "halo, nama saya hanif, nim saya f55123096. saya dari jurusan teknologi informasi, prodi S1-teknik informatika semester 7\n",
            "halo, nama saya sucipto, nim saya f55123097. saya dari jurusan teknologi informasi, prodi S1-sistem informasi semester 3\n",
            "reyhan sekarang naik ke semester 6\n"
          ]
        }
      ]
    }
  ]
}